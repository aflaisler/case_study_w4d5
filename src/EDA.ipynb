{
 "cells": [
  {
   "cell_type": "code",
   "execution_count": 1,
   "metadata": {
    "collapsed": true
   },
   "outputs": [],
   "source": [
    "import pandas as pd\n",
    "import numpy as np\n",
    "import matplotlib.pyplot as plt\n",
    "%matplotlib inline"
   ]
  },
  {
   "cell_type": "code",
   "execution_count": 2,
   "metadata": {
    "collapsed": true
   },
   "outputs": [],
   "source": [
    "def _load_data():\n",
    "    pass"
   ]
  },
  {
   "cell_type": "code",
   "execution_count": 4,
   "metadata": {
    "collapsed": false
   },
   "outputs": [
    {
     "name": "stderr",
     "output_type": "stream",
     "text": [
      "/Users/codehi/Documents/software/Anaconda/anaconda/envs/IntroToTensorFlow/lib/python3.5/site-packages/IPython/core/interactiveshell.py:2717: DtypeWarning: Columns (13,39,40,41) have mixed types. Specify dtype option on import or set low_memory=False.\n",
      "  interactivity=interactivity, compiler=compiler, result=result)\n"
     ]
    }
   ],
   "source": [
    "train = pd.read_csv(\"../data/Train.csv\")\n",
    "test = pd.read_csv(\"../data/test.csv\")"
   ]
  },
  {
   "cell_type": "code",
   "execution_count": 3,
   "metadata": {
    "collapsed": false
   },
   "outputs": [
    {
     "name": "stdout",
     "output_type": "stream",
     "text": [
      "Data Dictionary.xlsx  \u001b[34mdo_not_open\u001b[m\u001b[m/          preds.xlxs\r\n",
      "Test.zip              lin_pred.csv          rf_preds.csv\r\n",
      "\u001b[31mTrain.csv\u001b[m\u001b[m*            line_preds.csv        sale_id.csv\r\n",
      "Train.zip             lr_preds.csv          sales_id.csv\r\n",
      "ada_preds.csv         median_benchmark.csv  test.csv\r\n",
      "casestudy.py          newfile.py\r\n"
     ]
    }
   ],
   "source": [
    "ls ../data"
   ]
  },
  {
   "cell_type": "code",
   "execution_count": 8,
   "metadata": {
    "collapsed": false
   },
   "outputs": [
    {
     "name": "stdout",
     "output_type": "stream",
     "text": [
      "training set: (401125, 53) 401125 SalesID\n",
      "testing set: (11573, 52) 11573 SalesID\n",
      "There are missing values in the dataset\n"
     ]
    }
   ],
   "source": [
    "print(\"training set: \" + str(train.shape) + \" \"+str(len(train['SalesID'].unique()))+\" SalesID\") \n",
    "print(\"testing set: \" + str(test.shape)  +\" \"+ str(len(test['SalesID'].unique()))+\" SalesID\" )\n",
    "missing = train.isnull().any().any() or train.isnull().any().any()\n",
    "print(\"There is no missing values in the datasets\" if not missing else \"There are missing values in the dataset\")"
   ]
  },
  {
   "cell_type": "code",
   "execution_count": 6,
   "metadata": {
    "collapsed": false
   },
   "outputs": [
    {
     "data": {
      "text/html": [
       "<div>\n",
       "<table border=\"1\" class=\"dataframe\">\n",
       "  <thead>\n",
       "    <tr style=\"text-align: right;\">\n",
       "      <th></th>\n",
       "      <th>SalesID</th>\n",
       "      <th>MachineID</th>\n",
       "      <th>ModelID</th>\n",
       "      <th>datasource</th>\n",
       "      <th>auctioneerID</th>\n",
       "      <th>YearMade</th>\n",
       "      <th>MachineHoursCurrentMeter</th>\n",
       "      <th>UsageBand</th>\n",
       "      <th>saledate</th>\n",
       "      <th>fiModelDesc</th>\n",
       "      <th>...</th>\n",
       "      <th>Undercarriage_Pad_Width</th>\n",
       "      <th>Stick_Length</th>\n",
       "      <th>Thumb</th>\n",
       "      <th>Pattern_Changer</th>\n",
       "      <th>Grouser_Type</th>\n",
       "      <th>Backhoe_Mounting</th>\n",
       "      <th>Blade_Type</th>\n",
       "      <th>Travel_Controls</th>\n",
       "      <th>Differential_Type</th>\n",
       "      <th>Steering_Controls</th>\n",
       "    </tr>\n",
       "  </thead>\n",
       "  <tbody>\n",
       "    <tr>\n",
       "      <th>0</th>\n",
       "      <td>1222837</td>\n",
       "      <td>902859</td>\n",
       "      <td>1376</td>\n",
       "      <td>121</td>\n",
       "      <td>3</td>\n",
       "      <td>1000</td>\n",
       "      <td>0.0</td>\n",
       "      <td>NaN</td>\n",
       "      <td>1/5/2012 0:00</td>\n",
       "      <td>375L</td>\n",
       "      <td>...</td>\n",
       "      <td>None or Unspecified</td>\n",
       "      <td>None or Unspecified</td>\n",
       "      <td>None or Unspecified</td>\n",
       "      <td>None or Unspecified</td>\n",
       "      <td>Double</td>\n",
       "      <td>NaN</td>\n",
       "      <td>NaN</td>\n",
       "      <td>NaN</td>\n",
       "      <td>NaN</td>\n",
       "      <td>NaN</td>\n",
       "    </tr>\n",
       "    <tr>\n",
       "      <th>1</th>\n",
       "      <td>1222839</td>\n",
       "      <td>1048320</td>\n",
       "      <td>36526</td>\n",
       "      <td>121</td>\n",
       "      <td>3</td>\n",
       "      <td>2006</td>\n",
       "      <td>4412.0</td>\n",
       "      <td>Medium</td>\n",
       "      <td>1/5/2012 0:00</td>\n",
       "      <td>TX300LC2</td>\n",
       "      <td>...</td>\n",
       "      <td>None or Unspecified</td>\n",
       "      <td>12' 4\"</td>\n",
       "      <td>None or Unspecified</td>\n",
       "      <td>Yes</td>\n",
       "      <td>Double</td>\n",
       "      <td>NaN</td>\n",
       "      <td>NaN</td>\n",
       "      <td>NaN</td>\n",
       "      <td>NaN</td>\n",
       "      <td>NaN</td>\n",
       "    </tr>\n",
       "    <tr>\n",
       "      <th>2</th>\n",
       "      <td>1222841</td>\n",
       "      <td>999308</td>\n",
       "      <td>4587</td>\n",
       "      <td>121</td>\n",
       "      <td>3</td>\n",
       "      <td>2000</td>\n",
       "      <td>10127.0</td>\n",
       "      <td>Medium</td>\n",
       "      <td>1/5/2012 0:00</td>\n",
       "      <td>270LC</td>\n",
       "      <td>...</td>\n",
       "      <td>None or Unspecified</td>\n",
       "      <td>12' 4\"</td>\n",
       "      <td>None or Unspecified</td>\n",
       "      <td>None or Unspecified</td>\n",
       "      <td>Double</td>\n",
       "      <td>NaN</td>\n",
       "      <td>NaN</td>\n",
       "      <td>NaN</td>\n",
       "      <td>NaN</td>\n",
       "      <td>NaN</td>\n",
       "    </tr>\n",
       "    <tr>\n",
       "      <th>3</th>\n",
       "      <td>1222843</td>\n",
       "      <td>1062425</td>\n",
       "      <td>1954</td>\n",
       "      <td>121</td>\n",
       "      <td>3</td>\n",
       "      <td>1000</td>\n",
       "      <td>4682.0</td>\n",
       "      <td>Low</td>\n",
       "      <td>1/5/2012 0:00</td>\n",
       "      <td>892DLC</td>\n",
       "      <td>...</td>\n",
       "      <td>None or Unspecified</td>\n",
       "      <td>None or Unspecified</td>\n",
       "      <td>None or Unspecified</td>\n",
       "      <td>None or Unspecified</td>\n",
       "      <td>Double</td>\n",
       "      <td>NaN</td>\n",
       "      <td>NaN</td>\n",
       "      <td>NaN</td>\n",
       "      <td>NaN</td>\n",
       "      <td>NaN</td>\n",
       "    </tr>\n",
       "    <tr>\n",
       "      <th>4</th>\n",
       "      <td>1222845</td>\n",
       "      <td>1032841</td>\n",
       "      <td>4701</td>\n",
       "      <td>121</td>\n",
       "      <td>3</td>\n",
       "      <td>2002</td>\n",
       "      <td>8150.0</td>\n",
       "      <td>Medium</td>\n",
       "      <td>1/4/2012 0:00</td>\n",
       "      <td>544H</td>\n",
       "      <td>...</td>\n",
       "      <td>NaN</td>\n",
       "      <td>NaN</td>\n",
       "      <td>NaN</td>\n",
       "      <td>NaN</td>\n",
       "      <td>NaN</td>\n",
       "      <td>NaN</td>\n",
       "      <td>NaN</td>\n",
       "      <td>NaN</td>\n",
       "      <td>Standard</td>\n",
       "      <td>Conventional</td>\n",
       "    </tr>\n",
       "  </tbody>\n",
       "</table>\n",
       "<p>5 rows × 52 columns</p>\n",
       "</div>"
      ],
      "text/plain": [
       "   SalesID  MachineID  ModelID  datasource  auctioneerID  YearMade  \\\n",
       "0  1222837     902859     1376         121             3      1000   \n",
       "1  1222839    1048320    36526         121             3      2006   \n",
       "2  1222841     999308     4587         121             3      2000   \n",
       "3  1222843    1062425     1954         121             3      1000   \n",
       "4  1222845    1032841     4701         121             3      2002   \n",
       "\n",
       "   MachineHoursCurrentMeter UsageBand       saledate fiModelDesc  \\\n",
       "0                       0.0       NaN  1/5/2012 0:00        375L   \n",
       "1                    4412.0    Medium  1/5/2012 0:00    TX300LC2   \n",
       "2                   10127.0    Medium  1/5/2012 0:00       270LC   \n",
       "3                    4682.0       Low  1/5/2012 0:00      892DLC   \n",
       "4                    8150.0    Medium  1/4/2012 0:00        544H   \n",
       "\n",
       "         ...        Undercarriage_Pad_Width         Stick_Length  \\\n",
       "0        ...            None or Unspecified  None or Unspecified   \n",
       "1        ...            None or Unspecified               12' 4\"   \n",
       "2        ...            None or Unspecified               12' 4\"   \n",
       "3        ...            None or Unspecified  None or Unspecified   \n",
       "4        ...                            NaN                  NaN   \n",
       "\n",
       "                 Thumb      Pattern_Changer Grouser_Type Backhoe_Mounting  \\\n",
       "0  None or Unspecified  None or Unspecified       Double              NaN   \n",
       "1  None or Unspecified                  Yes       Double              NaN   \n",
       "2  None or Unspecified  None or Unspecified       Double              NaN   \n",
       "3  None or Unspecified  None or Unspecified       Double              NaN   \n",
       "4                  NaN                  NaN          NaN              NaN   \n",
       "\n",
       "  Blade_Type Travel_Controls Differential_Type Steering_Controls  \n",
       "0        NaN             NaN               NaN               NaN  \n",
       "1        NaN             NaN               NaN               NaN  \n",
       "2        NaN             NaN               NaN               NaN  \n",
       "3        NaN             NaN               NaN               NaN  \n",
       "4        NaN             NaN          Standard      Conventional  \n",
       "\n",
       "[5 rows x 52 columns]"
      ]
     },
     "execution_count": 6,
     "metadata": {},
     "output_type": "execute_result"
    }
   ],
   "source": [
    "test.head()"
   ]
  },
  {
   "cell_type": "code",
   "execution_count": null,
   "metadata": {
    "collapsed": true
   },
   "outputs": [],
   "source": []
  }
 ],
 "metadata": {
  "anaconda-cloud": {},
  "kernelspec": {
   "display_name": "Python [default]",
   "language": "python",
   "name": "python3"
  },
  "language_info": {
   "codemirror_mode": {
    "name": "ipython",
    "version": 3
   },
   "file_extension": ".py",
   "mimetype": "text/x-python",
   "name": "python",
   "nbconvert_exporter": "python",
   "pygments_lexer": "ipython3",
   "version": "3.5.2"
  }
 },
 "nbformat": 4,
 "nbformat_minor": 0
}
